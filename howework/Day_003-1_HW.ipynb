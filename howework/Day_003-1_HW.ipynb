{
 "cells": [
  {
   "cell_type": "markdown",
   "metadata": {},
   "source": [
    "## 練習時間\n",
    "在小量的資料上，我們用眼睛就可以看得出來程式碼是否有跑出我們理想中的結果\n",
    "\n",
    "請嘗試想像一個你需要的資料結構 (裡面的值可以是隨機的)，然後用上述的方法把它變成 pandas DataFrame\n",
    "\n",
    "#### Ex: 想像一個 dataframe 有兩個欄位，一個是國家，一個是人口，求人口數最多的國家\n",
    "\n",
    "### Hints: [隨機產生數值](https://blog.csdn.net/christianashannon/article/details/78867204)"
   ]
  },
  {
   "cell_type": "code",
   "execution_count": 15,
   "metadata": {},
   "outputs": [],
   "source": [
    "import pandas as pd\n",
    "import numpy as np"
   ]
  },
  {
   "cell_type": "code",
   "execution_count": 39,
   "metadata": {},
   "outputs": [
    {
     "name": "stdout",
     "output_type": "stream",
     "text": [
      "   country    people\n",
      "0  America  89911108\n",
      "1    Japan  67889349\n",
      "2   Taiwan  60800233\n",
      "3    Korea  26277446\n",
      "4   Canada  48358867\n",
      "Find which country have the highest number of population\n",
      "   country    people\n",
      "0  America  89911108\n"
     ]
    }
   ],
   "source": [
    "people = np.random.randint(100000000, size=5) \n",
    "                                                     \n",
    "countries = ['America', 'Japan', 'Taiwan', 'Korea', 'Canada']\n",
    "\n",
    "list_labels = ['country', 'people']\n",
    "list_cols = [countries, people]\n",
    "zipped = list(zip(list_labels, list_cols))\n",
    "\n",
    "function_1 = pd.DataFrame(dict(zipped))\n",
    "print(function_1)\n",
    "print('Find which country have the highest number of population.')\n",
    "print( function_1[ function_1['people'] == function_1['people'].max()] )"
   ]
  },
  {
   "cell_type": "code",
   "execution_count": 57,
   "metadata": {},
   "outputs": [],
   "source": [
    "#df = pd.DataFrame(np.random.randint(0,100,size=(100, 4)), columns=list('ABCD'))\n",
    "\n",
    "\n",
    "\n",
    "#print(function_2)\n",
    "#print( function_2[ function_2['人口'] == function_2['人口'].max() ])"
   ]
  },
  {
   "cell_type": "code",
   "execution_count": null,
   "metadata": {},
   "outputs": [],
   "source": [
    "\n"
   ]
  }
 ],
 "metadata": {
  "kernelspec": {
   "display_name": "Python 3",
   "language": "python",
   "name": "python3"
  },
  "language_info": {
   "codemirror_mode": {
    "name": "ipython",
    "version": 3
   },
   "file_extension": ".py",
   "mimetype": "text/x-python",
   "name": "python",
   "nbconvert_exporter": "python",
   "pygments_lexer": "ipython3",
   "version": "3.6.5"
  }
 },
 "nbformat": 4,
 "nbformat_minor": 2
}
