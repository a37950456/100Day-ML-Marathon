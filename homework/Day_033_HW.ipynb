{
 "cells": [
  {
   "cell_type": "markdown",
   "metadata": {},
   "source": [
    "## 練習時間"
   ]
  },
  {
   "cell_type": "markdown",
   "metadata": {},
   "source": [
    "請觀看李宏毅教授以神奇寶貝進化 CP 值預測的範例，解說何謂機器學習與過擬合。並回答以下問題"
   ]
  },
  {
   "cell_type": "markdown",
   "metadata": {},
   "source": [
    "[youtube](https://www.youtube.com/watch?v=fegAeph9UaA)"
   ]
  },
  {
   "cell_type": "markdown",
   "metadata": {},
   "source": [
    "### 1. What is generalization in machine learning?\n",
    "### 2. What are the objective functions that can be used for classification problems and regression problems, respectively?"
   ]
  },
  {
   "cell_type": "markdown",
   "metadata": {},
   "source": [
    "What is generalization in machine learning?\n",
    "\n",
    "In machine learning, generalization refers to a model's ability to perform well on unseen data, which is different from the data it was trained on. A model that generalizes well can accurately predict outcomes for new inputs that were not part of the training dataset.\n",
    "\n",
    "Good generalization means that the model has captured the underlying patterns in the training data rather than simply memorizing it. If a model has poor generalization, it may perform exceptionally well on the training data but fail on new, unseen data—a situation known as overfitting. Conversely, a model that generalizes well maintains a balance between fitting the training data and being able to apply what it has learned to make accurate predictions on new data."
   ]
  },
  {
   "cell_type": "code",
   "execution_count": null,
   "metadata": {
    "vscode": {
     "languageId": "plaintext"
    }
   },
   "outputs": [],
   "source": [
    "What are the objective functions that can be used for classification problems and regression problems, respectively?\n",
    "\n",
    "In machine learning, different types of problems use different objective functions. Here are some common objective functions for classification and regression problems:\n",
    "\n",
    "Classification Problems:\n",
    "Binary Cross-Entropy Loss (Log Loss): Used for binary classification tasks. It measures the difference between the predicted probabilities and the actual class labels.\n",
    "Categorical Cross-Entropy Loss: Used for multi-class classification tasks where the classes are mutually exclusive. It compares the predicted probability distribution with the true distribution.\n",
    "Sparse Categorical Cross-Entropy Loss: Similar to categorical cross-entropy but used when the class labels are provided as integers instead of one-hot encoded vectors.\n",
    "Hinge Loss: Commonly used in Support Vector Machines (SVMs), it measures the error for \"maximum-margin\" classification.\n",
    "Focal Loss: An extension of cross-entropy loss that addresses class imbalance by down-weighting easy examples and focusing training on hard negatives.\n",
    "Regression Problems:\n",
    "Mean Squared Error (MSE): Measures the average squared difference between predicted values and actual values. It is sensitive to outliers.\n",
    "Mean Absolute Error (MAE): Measures the average absolute difference between predicted values and actual values. It is more robust to outliers than MSE.\n",
    "Huber Loss: Combines the properties of MSE and MAE, being quadratic for small errors and linear for larger errors, thus being less sensitive to outliers.\n",
    "R² Loss (Coefficient of Determination): Measures how well the predicted values explain the variance of the actual values.\n",
    "Each of these objective functions is chosen based on the specific characteristics of the problem being solved."
   ]
  }
 ],
 "metadata": {
  "kernelspec": {
   "display_name": "Python 3",
   "language": "python",
   "name": "python3"
  },
  "language_info": {
   "codemirror_mode": {
    "name": "ipython",
    "version": 3
   },
   "file_extension": ".py",
   "mimetype": "text/x-python",
   "name": "python",
   "nbconvert_exporter": "python",
   "pygments_lexer": "ipython3",
   "version": "3.6.2"
  }
 },
 "nbformat": 4,
 "nbformat_minor": 2
}
